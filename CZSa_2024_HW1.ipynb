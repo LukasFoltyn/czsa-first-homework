{
 "cells": [
  {
   "cell_type": "markdown",
   "id": "b20f01c8",
   "metadata": {},
   "source": [
    "# CZSa 2024 Homework 1\n",
    "\n",
    "## Instructions\n",
    "\n",
    "You are allowed to collaborate and to use information from slides, books, internet etc., for solving this homework. HOWEVER, in the final exam, there will be some questions that are very similar to some questions of this homework and/or the next homework. These questions can give ten (10) points in total on the exam. Therefore, it is beneficial for you to understand the answers you provide here.\n",
    "\n",
    "Deadline 2024-12-16 by email. Please include any code you have written either, separately or as verbatim text in the report. \n",
    "\n",
    "Please don't hestitate to ask if something is unclear."
   ]
  },
  {
   "cell_type": "markdown",
   "id": "eae38fd5",
   "metadata": {},
   "source": [
    "## 1 (3p)\n",
    "### a) \n",
    "Calculate numerically the SNR resulting from quantization of a real signal. For example, you can use the speech recording ```00011.wav``` available in the github repository. Plot the SNR vs the number of bits, e.g., for $\\# \\rm{bit}s=2,3,4,5,6,7,8$. \\\n",
    "You can use the functions ```quantize```, ```normalize``` and other code pieces from Exercise 1. \n",
    "\n",
    "### b) \n",
    "Compare the plot to the two results for SNR we derived in Lecture 1, i.e., \n",
    "\\begin{equation}\n",
    "SNR_{\\rm{sine}}=6.02b + 1.67\\,\\,dB\n",
    "\\end{equation}\n",
    "and\n",
    "\\begin{equation}\n",
    "SNR_{\\rm{uniform}}=6.02b\\,\\,dB\n",
    "\\end{equation}\n",
    "where $SNR_{\\rm{sine}}$ and $SNR_{\\rm{uniform}}$ refers to the case of a sine signal and a uniformly distributed signal respectively (one example of a uniformly distributed signal is the sawtooth signal [https://docs.scipy.org/doc/scipy/reference/generated/scipy.signal.sawtooth.html](https://docs.scipy.org/doc/scipy/reference/generated/scipy.signal.sawtooth.html)). In both formulas, $b$ is the number of bits used for the quantization. For both formulas, the error is assumed to be uniformly distributed in $[-q/2, q/2]$ where $q$ is the quantiztion step, i.e., the difference of two adjecent quantiztion levels. \n",
    "\n",
    "### c)\n",
    "Analyse how accurate the assumptions for the above two formulas are for the signal you used. The assumptions about uniform distributions can be analaysed for example by plotting histograms. The assumptions about the signal being a pure sine or cosine signal can be checked by calculating DFT and plotting the spectrum.  \n",
    "\n",
    "## 2 (2p)\n",
    "Recall from Lecture 1 that if a signal is sampled with sampling frequency $F_s$ and before sampling contained only frequencies below $F_s/2$ then it can be reconstructed according to\n",
    "\\begin{equation}\n",
    "f(t)=\\sum_{n=-\\infty}^{\\infty} f\\left(\\frac{n}{F_s} \\right )\\frac{\\sin(tF_s\\pi -n\\pi)}{tF_s\\pi -n\\pi}\\quad (1),\n",
    "\\end{equation}\n",
    "where $f\\left(\\frac{n}{F_s} \\right )= f\\left(nT_s \\right )$ is the signal values at the sampling points ($F_s=1/T_s$).\n",
    "### a)\n",
    "Downsample (decimate) the signal used before with a factor 4 using the appropriate anti-aliasing filter. That is, if your original signal is in 16KHz (and accordingly has already been filtered so that it only contains frequencies below 8KHz) you\n",
    "\n",
    "1. Create a low pass filter with cut off frequency 2KHz (you can use code snippets from exercise 4 based on ```scicpy.signal``` for this) and send the signal through the filter. Denote the obtained signal $x[n]$.\n",
    "2. Discard 3 out of four samples, i.e., you keep every fourth sample of the signal. This can be written as $x_{\\rm{d}}[n]=x[4n]$ where the left hand side is the downsampled signal and the right hand side is the original signal after anti-alias filtering. \n",
    "\n",
    "### b)\n",
    "Use Equation (1) above to reconstruct some values of the original signal, $x[n]$, that are not part of $x_{\\rm{d}}[n]$, e.g. $x[4n+2]$. Of of course, you need to replace the infinite limits in the sum with finite ones. It is a good idea to take equally many on each side of the point of interest. Try briefly how many you seem to need for accurate results. You don't need to analyse this deeply. \n",
    "Compare the result to the correct values as well as the ones obtained by simple linear interpolation of the two surrounding points, i.e., \n",
    "\\begin{equation}\n",
    "\\frac{x_{\\rm{d}}[n] + x_{\\rm{d}}[n+1]}{2}=\\frac{x[4n] + x[4(n+1)]}{2}\n",
    "\\end{equation}.\n",
    "\n",
    "## 3 (2p)\n",
    "Show that a symmetric FIR filter with with odd number of real coefficients has linear phase. Here, antisymmetric means the filter coefficients fulfill \n",
    "\\begin{equation}\n",
    "h[N-n]=h[N+n]\n",
    "\\end{equation}\n",
    "where $N$ and $n$ are postitive integers, $n\\leq N$ and the filter has length $2N+1$. (See slides of lecture 4 for a figure.)"
   ]
  }
 ],
 "metadata": {
  "kernelspec": {
   "display_name": "Python 3 (ipykernel)",
   "language": "python",
   "name": "python3"
  },
  "language_info": {
   "codemirror_mode": {
    "name": "ipython",
    "version": 3
   },
   "file_extension": ".py",
   "mimetype": "text/x-python",
   "name": "python",
   "nbconvert_exporter": "python",
   "pygments_lexer": "ipython3",
   "version": "3.10.6"
  }
 },
 "nbformat": 4,
 "nbformat_minor": 5
}
